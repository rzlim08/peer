{
 "cells": [
  {
   "cell_type": "markdown",
   "metadata": {},
   "source": [
    "## PEER class\n",
    "\n",
    "* This is a quick tutorial on how to run the PEER class. \n",
    "\n",
    "* I refactored the PEER algorithm into a single python class because we were doing a bunch of new stuff with it, and it allowed me to iterate faster\n",
    "\n",
    "* There are some pretty significant speedups involved too, since the original version just iterated through all voxels rather than doing vector calculations\n",
    "\n",
    "\n",
    "### The parameters you will need to set for anything to run are commented with SET THIS"
   ]
  },
  {
   "cell_type": "markdown",
   "metadata": {},
   "source": [
    "### Pre-Introduction\n",
    "\n",
    "If you haven't already, run pip install -r requirements.txt to get all requirements. "
   ]
  },
  {
   "cell_type": "markdown",
   "metadata": {},
   "source": [
    "## Intro\n",
    "\n",
    "To import the class, just do `from peer.PEER import PEER` "
   ]
  },
  {
   "cell_type": "code",
   "execution_count": 1,
   "metadata": {},
   "outputs": [],
   "source": [
    "from peer.PEER import PEER\n",
    "import numpy as np"
   ]
  },
  {
   "cell_type": "markdown",
   "metadata": {},
   "source": [
    "When you import a function in a jupyter notebook, calling that function with a ? at the end helps you read the function documentation"
   ]
  },
  {
   "cell_type": "code",
   "execution_count": 2,
   "metadata": {},
   "outputs": [],
   "source": [
    "PEER??"
   ]
  },
  {
   "cell_type": "code",
   "execution_count": 3,
   "metadata": {},
   "outputs": [],
   "source": [
    "# Initialize PEER\n",
    "em_path = \"/usr/share/fsl/5.0/data/standard/MNI152_T1_2mm_eye_mask.nii.gz\" # path to mni eyemask SET THIS IF NOT RIGHT\n",
    "run_global_signal_regression = False # Don't run GSR\n",
    "pixels_in_x_direction = 1920 # SET THIS\n",
    "pixels_in_y_direction = 1280 # SET THIS\n",
    "output_directory = \"/tmp/\" # SET THIS TO WHEREVER YOU WANT YOUR OUTPUT\n",
    "p = PEER(em_path, \n",
    "         run_global_signal_regression, \n",
    "         pixels_in_x_direction, \n",
    "         pixels_in_y_direction, \n",
    "         output_directory) "
   ]
  },
  {
   "cell_type": "markdown",
   "metadata": {},
   "source": [
    "The next thing we want to do is read in and the training image. We also want to zscore it on the time direction. \n",
    "The function `preprocess_train_data` does both at the same time"
   ]
  },
  {
   "cell_type": "code",
   "execution_count": 4,
   "metadata": {},
   "outputs": [
    {
     "name": "stdout",
     "output_type": "stream",
     "text": [
      "\n",
      "Load Data\n",
      "====================================================\n",
      "Training data Loaded\n"
     ]
    }
   ],
   "source": [
    "path_to_training_data = \"/home/cbin-user/Documents/Misc/peer_analysis_v2/data/subj1/PEER1.nii.gz\" #SET THIS\n",
    "train = p.preprocess_train_data(path_to_training_data)"
   ]
  },
  {
   "cell_type": "code",
   "execution_count": 5,
   "metadata": {},
   "outputs": [
    {
     "data": {
      "text/plain": [
       "(91, 109, 91, 135)"
      ]
     },
     "execution_count": 5,
     "metadata": {},
     "output_type": "execute_result"
    }
   ],
   "source": [
    "train.shape # should be the same as input image"
   ]
  },
  {
   "cell_type": "markdown",
   "metadata": {},
   "source": [
    "Now we want to prepare the data to submit to our SVR. \n",
    "`prepare_data_for_SVR` unravels the fmri data dimensions to stim X voxels\n",
    "and creates the targets in the x and y directions"
   ]
  },
  {
   "cell_type": "code",
   "execution_count": 6,
   "metadata": {},
   "outputs": [
    {
     "name": "stdout",
     "output_type": "stream",
     "text": [
      "The []th volume(s) were removed.\n"
     ]
    }
   ],
   "source": [
    "stimulus_vals = \"./peer/stim_vals.csv\" # where the subjects were actually looking\n",
    "train_list, x_target, y_target = p.prepare_data_for_svr(train, [], stimulus_vals) # don't worry about the [] \n",
    "train_matrix = np.array(train_list) #convert list to array"
   ]
  },
  {
   "cell_type": "code",
   "execution_count": 7,
   "metadata": {},
   "outputs": [
    {
     "data": {
      "text/plain": [
       "(27, 902629)"
      ]
     },
     "execution_count": 7,
     "metadata": {},
     "output_type": "execute_result"
    }
   ],
   "source": [
    "train_matrix.shape # should be number of stim values by number of voxels"
   ]
  },
  {
   "cell_type": "code",
   "execution_count": 8,
   "metadata": {},
   "outputs": [
    {
     "data": {
      "text/plain": [
       "True"
      ]
     },
     "execution_count": 8,
     "metadata": {},
     "output_type": "execute_result"
    }
   ],
   "source": [
    "len(x_target) == train_matrix.shape[0] == len(y_target) # all these should be the same "
   ]
  },
  {
   "cell_type": "code",
   "execution_count": 9,
   "metadata": {},
   "outputs": [
    {
     "name": "stdout",
     "output_type": "stream",
     "text": [
      "[LibSVM][LibSVM]"
     ]
    }
   ],
   "source": [
    "target = (x_target, y_target) # put both targets together\n",
    "x_model, y_model = p.train_peer(train_matrix, target) # Run the training algorithm, return the models"
   ]
  },
  {
   "cell_type": "code",
   "execution_count": 10,
   "metadata": {},
   "outputs": [
    {
     "name": "stdout",
     "output_type": "stream",
     "text": [
      "\n",
      "Load Data\n",
      "====================================================\n",
      "Training data Loaded\n"
     ]
    }
   ],
   "source": [
    "# The models are just scikit-learn models on the backend\n",
    "# lets test this on a new image\n",
    "test_image = \"/home/cbin-user/Documents/Misc/peer_analysis_v2/data/subj1/PEER2.nii.gz\" # SET THIS\n",
    "test = p.preprocess_train_data(test_image) # must read in and preprocess test image too\n",
    "test_matrix = test.reshape((-1, test.shape[3])) # reshape on the time dimension"
   ]
  },
  {
   "cell_type": "code",
   "execution_count": 11,
   "metadata": {},
   "outputs": [
    {
     "name": "stdout",
     "output_type": "stream",
     "text": [
      "(902629, 135)\n"
     ]
    }
   ],
   "source": [
    "print(test_matrix.shape) # The test matrix is transposed\n",
    "test_matrix = test_matrix.T # Lets fix this"
   ]
  },
  {
   "cell_type": "code",
   "execution_count": 12,
   "metadata": {},
   "outputs": [
    {
     "name": "stdout",
     "output_type": "stream",
     "text": [
      "\n",
      "Predicting Fixations\n",
      "====================================================\n",
      "Fixations saved to specified output directory.\n"
     ]
    }
   ],
   "source": [
    "# Finally we can test this image\n",
    "x_estimation, y_estimation = p.predict_fixations(x_model, y_model, test_matrix)"
   ]
  },
  {
   "cell_type": "code",
   "execution_count": 13,
   "metadata": {},
   "outputs": [
    {
     "data": {
      "image/png": "[encoded data removed]",
      "text/plain": [
       "<Figure size 432x288 with 1 Axes>"
      ]
     },
     "metadata": {
      "needs_background": "light"
     },
     "output_type": "display_data"
    }
   ],
   "source": [
    "# Fingers crossed, everything went ok. Let's plot the results to see.\n",
    "import matplotlib.pyplot as plt\n",
    "plt.plot(x_estimation)\n",
    "plt.show()"
   ]
  },
  {
   "cell_type": "code",
   "execution_count": 14,
   "metadata": {},
   "outputs": [
    {
     "data": {
      "image/png": "[encoded data removed]",
      "text/plain": [
       "<Figure size 432x288 with 1 Axes>"
      ]
     },
     "metadata": {
      "needs_background": "light"
     },
     "output_type": "display_data"
    }
   ],
   "source": [
    "plt.plot(y_estimation)\n",
    "plt.show()"
   ]
  },
  {
   "cell_type": "markdown",
   "metadata": {},
   "source": [
    "If you want to test a non-PEER scan, you will have to read in the eyetracking code and test yourself.\n"
   ]
  },
  {
   "cell_type": "code",
   "execution_count": null,
   "metadata": {},
   "outputs": [],
   "source": []
  }
 ],
 "metadata": {
  "kernelspec": {
   "display_name": "peer",
   "language": "python",
   "name": "peer"
  },
  "language_info": {
   "codemirror_mode": {
    "name": "ipython",
    "version": 3
   },
   "file_extension": ".py",
   "mimetype": "text/x-python",
   "name": "python",
   "nbconvert_exporter": "python",
   "pygments_lexer": "ipython3",
   "version": "3.6.12"
  }
 },
 "nbformat": 4,
 "nbformat_minor": 2
}
